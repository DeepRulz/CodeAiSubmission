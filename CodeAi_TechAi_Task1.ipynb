{
 "cells": [
  {
   "cell_type": "markdown",
   "metadata": {
    "id": "XnP1PxmLWjlC"
   },
   "source": [
    "# ***FOR DOING THE TASK MAKE THE COPY OF THIS COLLAB FILE IN YOUR DRIVE***"
   ]
  },
  {
   "cell_type": "markdown",
   "metadata": {
    "id": "RBNeAaOLxbe5"
   },
   "source": [
    "### 1. Python Basics & Control Structures\n",
    "\n",
    "*Task*:\n",
    "\n",
    "* Write a Python program that:\n",
    "\n",
    "  * Takes a list of strings (e.g., [\"apple\", \"banana\", \"grape\", \"kiwi\", \"orange\"]).\n",
    "  * Filters out fruits with more than 5 characters using a for loop and if statement.\n",
    "  * For each fruit, print its length.\n",
    "\n",
    "*Example Input*:\n",
    "\n",
    "python\n",
    "fruits = [\"apple\", \"banana\", \"grape\", \"kiwi\", \"orange\"]"
   ]
  },
  {
   "cell_type": "code",
   "execution_count": 1,
   "metadata": {
    "id": "NcI_p7F0vFhz"
   },
   "outputs": [
    {
     "name": "stdout",
     "output_type": "stream",
     "text": [
      "The fruit banana has 6 characters\n",
      "The fruit orange has 6 characters\n"
     ]
    }
   ],
   "source": [
    "ls=[\"apple\", \"banana\", \"grape\", \"kiwi\", \"orange\"]\n",
    "for i in ls:\n",
    "    if len(i)>5:\n",
    "        print(f\"The fruit {i} has {len(i)} characters\")"
   ]
  },
  {
   "cell_type": "markdown",
   "metadata": {
    "id": "sQeiBzi9xjIl"
   },
   "source": [
    "\n",
    "*Expected Output*:\n",
    "\n",
    "\n",
    "The fruit banana has 6 characters.\n",
    "\n",
    "The fruit orange has 6 characters.\n"
   ]
  },
  {
   "cell_type": "markdown",
   "metadata": {
    "id": "k12WGkNoyAgY"
   },
   "source": [
    "### 2. Functions & Lambda\n",
    "\n",
    "*Task*:\n",
    "\n",
    "* Write a function that takes a list of integers and a threshold value. Use a **lambda* function inside filter() to return a list of numbers greater than the threshold.\n",
    "\n",
    "\n",
    "  # Test the function with a list [1, 5, 10, 3, 8] and threshold 5\n",
    "\n",
    "\n",
    "\n",
    "\n"
   ]
  },
  {
   "cell_type": "code",
   "execution_count": 2,
   "metadata": {
    "id": "xSLokk2iy1OQ"
   },
   "outputs": [
    {
     "name": "stdout",
     "output_type": "stream",
     "text": [
      "The numbers above the threshold are [10, 8]\n"
     ]
    }
   ],
   "source": [
    "def fil(num, th):\n",
    "    return list(filter(lambda x: x > th, num))\n",
    "\n",
    "ls=[1,5,10,3,8]\n",
    "threshold=5\n",
    "\n",
    "print(f\"The numbers above the threshold are {fil(ls,threshold)}\")\n"
   ]
  },
  {
   "cell_type": "markdown",
   "metadata": {
    "id": "qFz4IBidxuK8"
   },
   "source": [
    "### 3. Object-Oriented Programming (OOP)\n",
    "\n",
    "*Task*:\n",
    "\n",
    "* Implement a BankAccount class with methods for depositing, withdrawing, transferring, and checking balance.\n",
    "* Implement *Polymorphism* by overriding the __str__ method to provide a custom string representation of the account.\n",
    "\n",
    "\n",
    "# Example\n",
    "account_a = BankAccount(\"A123\", \"Alice\", 1000)\n",
    "\n",
    "account_b = BankAccount(\"B456\", \"Bob\", 500)\n",
    "\n",
    "account_a.deposit(200)\n",
    "\n",
    "account_a.transfer(300, account_b)\n"
   ]
  },
  {
   "cell_type": "code",
   "execution_count": 3,
   "metadata": {
    "id": "nkl25hP8zWJQ"
   },
   "outputs": [
    {
     "name": "stdout",
     "output_type": "stream",
     "text": [
      "The Amount has been deposited\n",
      "The new balance is 1200\n",
      "The Amount has been transferred\n",
      "Your new balance is 900\n",
      "Account Number = A123\n",
      "Holder Name = Alice\n",
      "Balance = 900\n",
      "Account Number = B456\n",
      "Holder Name = Bob\n",
      "Balance = 800\n"
     ]
    }
   ],
   "source": [
    "class BankAccount:\n",
    "    def __init__(self,AcNum,Name,bal):\n",
    "        self.AcNum=AcNum\n",
    "        self.Name=Name\n",
    "        self.bal=bal\n",
    "    def dep(self,am):\n",
    "        self.bal+=am\n",
    "        print(f\"The Amount has been deposited\\nThe new balance is {self.bal}\")\n",
    "    def wit(self,am):\n",
    "        self.bal-=am\n",
    "        print(f\"The Amount has been withdrawn\\nThe new balance is {self.bal}\")\n",
    "    def trans(self,am,ac):\n",
    "        self.bal-=am\n",
    "        ac.bal+=am\n",
    "        print(f\"The Amount has been transferred\\nYour new balance is {self.bal}\")\n",
    "    def bala(self):\n",
    "        print(f\"Your Balance is {self.bal}\")\n",
    "    def __str__(self):\n",
    "        return (f\"Account Number = {self.AcNum}\\nHolder Name = {self.Name}\\nBalance = {self.bal}\")\n",
    "\n",
    "account_a = BankAccount(\"A123\", \"Alice\", 1000)\n",
    "\n",
    "account_b = BankAccount(\"B456\", \"Bob\", 500)\n",
    "\n",
    "account_a.dep(200)\n",
    "\n",
    "account_a.trans(300, account_b)\n",
    "\n",
    "print(account_a)\n",
    "print(account_b)"
   ]
  },
  {
   "cell_type": "markdown",
   "metadata": {
    "id": "R9op0Bt0xttt"
   },
   "source": [
    "### 4. Exception Handling\n",
    "\n",
    "*Task*:\n",
    "\n",
    "* Write a divide_numbers(a, b) function with exception handling:\n",
    "\n",
    "  * Handle division by zero and invalid input (non-numeric values).\n",
    "\n",
    "\n",
    "# Test the function\n",
    "print(divide_numbers(10, 2))   # Valid input\n",
    "\n",
    "print(divide_numbers(10, 0))   # Division by zero\n",
    "\n",
    "print(divide_numbers(\"ten\", 2))  # Invalid input"
   ]
  },
  {
   "cell_type": "code",
   "execution_count": 4,
   "metadata": {
    "id": "DEZfXk4V0A8_"
   },
   "outputs": [
    {
     "name": "stdout",
     "output_type": "stream",
     "text": [
      "5.0\n",
      "Cannot divide by zero\n",
      "Invalid input, please enter numbers\n"
     ]
    }
   ],
   "source": [
    "def divide_numbers(a,b):\n",
    "    try:\n",
    "        return a/b\n",
    "    except ZeroDivisionError:\n",
    "        return \"Cannot divide by zero\"\n",
    "    except TypeError:\n",
    "        return \"Invalid input, please enter numbers\"\n",
    "print(divide_numbers(10, 2)) # Valid input\n",
    "\n",
    "print(divide_numbers(10, 0)) # Division by zero\n",
    "\n",
    "print(divide_numbers(\"ten\", 2)) # Invalid input"
   ]
  },
  {
   "cell_type": "markdown",
   "metadata": {
    "id": "UAfaux4e0LsB"
   },
   "source": [
    "*Example Expected Output*:\n",
    "\n",
    "\n",
    "5.0\n",
    "\n",
    "Cannot divide by zero\n",
    "\n",
    "Invalid input, please enter numbers"
   ]
  },
  {
   "cell_type": "markdown",
   "metadata": {
    "id": "_zo-t7xZ0ayU"
   },
   "source": [
    "### 5. Python Modules & File Handling\n",
    "\n",
    "*Task*:\n",
    "\n",
    "* Write a Python program to:\n",
    "\n",
    "  * Create a text file \"students.txt\" with student names and marks.\n",
    "  * Read the file and print names of students with marks above 80.\n",
    "\n",
    "\n",
    "\n",
    "\n"
   ]
  },
  {
   "cell_type": "code",
   "execution_count": 5,
   "metadata": {
    "id": "kp3PLXuv0_cU"
   },
   "outputs": [
    {
     "name": "stdout",
     "output_type": "stream",
     "text": [
      "Alice\n",
      "John\n",
      "Bob\n"
     ]
    }
   ],
   "source": [
    "with open(\"students.txt\",\"r\") as file:\n",
    "    f=file.readlines()\n",
    "    p=[]\n",
    "    for a in f:\n",
    "        a=a.rstrip(\"\\n\")\n",
    "        a=a.split(\",\")\n",
    "        p.append(a)\n",
    "    for a in p:\n",
    "        if int(a[1])>80:\n",
    "            print(a[0])"
   ]
  },
  {
   "cell_type": "markdown",
   "metadata": {
    "id": "BGTgVTJZ0_7b"
   },
   "source": [
    "\n",
    "*Expected Output*:\n",
    "\n",
    "\n",
    "Alice\n",
    "\n",
    "Bob\n",
    "\n",
    "David\n"
   ]
  },
  {
   "cell_type": "markdown",
   "metadata": {
    "id": "buuDAsX_2ZEg"
   },
   "source": [
    "### 6. Regular Expressions\n",
    "\n",
    "*Task*:\n",
    "\n",
    "* Write a Python function extract_phone_numbers(text) that extracts all phone numbers from a given text. The phone numbers should be in the format (xxx) xxx-xxxx.\n",
    "\n",
    "\n",
    "sample_text = (\n",
    "    \"For any support regarding our Bangalore office, call us at +91-9876543210 between 9 AM to 6 PM. \"\n",
    "    \"If you are located in Mumbai, you can also reach our helpdesk at 9123456789 for urgent assistance. \"\n",
    "    \"Additionally, our Delhi branch can be contacted at +91-9988776655 during weekdays.\"\n",
    ")\n",
    "\n",
    "\n",
    "\n",
    "\n",
    "*Expected Output*:\n",
    "\n",
    "\n",
    "['+91-9876543210', '+91-9988776655']\n"
   ]
  },
  {
   "cell_type": "code",
   "execution_count": 6,
   "metadata": {
    "id": "Nx0oXsT92Ytu"
   },
   "outputs": [
    {
     "name": "stdout",
     "output_type": "stream",
     "text": [
      "['+91-9876543210', '+91-9988776655']\n"
     ]
    }
   ],
   "source": [
    "import re\n",
    "def extract_indian_numbers(text):\n",
    "    pattern = r\"(?:\\+91-)\\d{10}\"\n",
    "    return re.findall(pattern, text)\n",
    "print(extract_indian_numbers(\"For any support regarding our Bangalore office, call us at +91-9876543210 between 9 AM to 6 PM. \" \"If you are located in Mumbai, you can also reach our helpdesk at 9123456789 for urgent assistance. \" \"Additionally, our Delhi branch can be contacted at +91-9988776655 during weekdays.\"))"
   ]
  },
  {
   "cell_type": "markdown",
   "metadata": {
    "id": "6uPEN50JQ4IP"
   },
   "source": [
    "\n",
    "*Expected Output*:\n",
    "\n",
    "\n",
    "['+91-9876543210', '+91-9988776655']"
   ]
  }
 ],
 "metadata": {
  "colab": {
   "provenance": []
  },
  "kernelspec": {
   "display_name": "Python 3 (ipykernel)",
   "language": "python",
   "name": "python3"
  },
  "language_info": {
   "codemirror_mode": {
    "name": "ipython",
    "version": 3
   },
   "file_extension": ".py",
   "mimetype": "text/x-python",
   "name": "python",
   "nbconvert_exporter": "python",
   "pygments_lexer": "ipython3",
   "version": "3.13.5"
  }
 },
 "nbformat": 4,
 "nbformat_minor": 4
}
